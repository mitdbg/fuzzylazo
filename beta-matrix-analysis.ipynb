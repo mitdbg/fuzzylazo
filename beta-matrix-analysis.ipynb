{
 "cells": [
  {
   "cell_type": "code",
   "execution_count": 28,
   "metadata": {},
   "outputs": [],
   "source": [
    "import numpy as np\n",
    "import math\n",
    "import pandas as pd\n",
    "\n",
    "import matplotlib\n",
    "import matplotlib.pyplot as plt"
   ]
  },
  {
   "cell_type": "code",
   "execution_count": 29,
   "metadata": {},
   "outputs": [],
   "source": [
    "def deserialize_matrix(path):\n",
    "    with open(path, 'r') as f:\n",
    "        lines = f.readlines()\n",
    "        matrix = []\n",
    "        for l in lines:\n",
    "            l = l.strip()\n",
    "            l = l.replace(' ', '')\n",
    "            tokens = l.split(',')\n",
    "            row = [float(el) for el in tokens if el != \"\" and el != \" \"]\n",
    "            matrix.append(row)\n",
    "    return np.asarray(matrix)"
   ]
  },
  {
   "cell_type": "code",
   "execution_count": 30,
   "metadata": {},
   "outputs": [],
   "source": [
    "def deserialize_id_map(path):\n",
    "    with open(path, 'r') as f:\n",
    "        lines = f.readlines()\n",
    "        idmap = dict()\n",
    "        for l in lines:\n",
    "            tokens = l.split(\",\")\n",
    "            col_id = int(tokens[0])\n",
    "            col_name = tokens[1].strip()\n",
    "            idmap[col_id] = col_name\n",
    "    return idmap"
   ]
  },
  {
   "cell_type": "code",
   "execution_count": 31,
   "metadata": {},
   "outputs": [],
   "source": [
    "def transform_matrix_dataframe(matrix):\n",
    "    idx = [i for i in range(matrix.shape[0])]\n",
    "    matrix_df = pd.DataFrame(data=matrix, index=idx, columns=idx)\n",
    "    return matrix_df"
   ]
  },
  {
   "cell_type": "code",
   "execution_count": 74,
   "metadata": {},
   "outputs": [],
   "source": [
    "def name_pair(pair, idmap):\n",
    "    i, j = pair\n",
    "    return idmap[i] + \" ~ \" + idmap[j]"
   ]
  },
  {
   "cell_type": "code",
   "execution_count": 32,
   "metadata": {},
   "outputs": [],
   "source": [
    "input_matrix = \"temp/mit_matrix_n2_k64.dat\"\n",
    "input_idmap = \"temp/mit_matrix_n2_k64.dat_nameMap\""
   ]
  },
  {
   "cell_type": "code",
   "execution_count": 33,
   "metadata": {
    "scrolled": true
   },
   "outputs": [],
   "source": [
    "matrix = deserialize_matrix(input_matrix)"
   ]
  },
  {
   "cell_type": "code",
   "execution_count": 34,
   "metadata": {},
   "outputs": [],
   "source": [
    "idmap = deserialize_id_map(input_idmap)"
   ]
  },
  {
   "cell_type": "code",
   "execution_count": 35,
   "metadata": {},
   "outputs": [
    {
     "data": {
      "text/plain": [
       "(1599, 1599)"
      ]
     },
     "execution_count": 35,
     "metadata": {},
     "output_type": "execute_result"
    }
   ],
   "source": [
    "matrix.shape"
   ]
  },
  {
   "cell_type": "code",
   "execution_count": 36,
   "metadata": {
    "scrolled": true
   },
   "outputs": [
    {
     "data": {
      "text/plain": [
       "1599"
      ]
     },
     "execution_count": 36,
     "metadata": {},
     "output_type": "execute_result"
    }
   ],
   "source": [
    "len(idmap)"
   ]
  },
  {
   "cell_type": "code",
   "execution_count": 37,
   "metadata": {},
   "outputs": [
    {
     "data": {
      "text/plain": [
       "[(0, 'Fclt_building_hist_1.csv->Date Occupied'),\n",
       " (1, 'All_olap_descriptor_types.csv->Descriptor Type'),\n",
       " (2, 'Sdo_units_of_measure.csv->Unit Of Meas Type'),\n",
       " (3, 'Sdo_crs_engineering.csv->Data Source'),\n",
       " (4, 'short_fclt_rooms_hist.csv->Fclt Floor Key')]"
      ]
     },
     "execution_count": 37,
     "metadata": {},
     "output_type": "execute_result"
    }
   ],
   "source": [
    "list(idmap.items())[0:5]"
   ]
  },
  {
   "cell_type": "code",
   "execution_count": 38,
   "metadata": {},
   "outputs": [],
   "source": [
    "aggregated_jc = [np.sum(row) for row in matrix]"
   ]
  },
  {
   "cell_type": "code",
   "execution_count": 39,
   "metadata": {},
   "outputs": [
    {
     "data": {
      "text/plain": [
       "448.19444333"
      ]
     },
     "execution_count": 39,
     "metadata": {},
     "output_type": "execute_result"
    }
   ],
   "source": [
    "max(aggregated_jc)"
   ]
  },
  {
   "cell_type": "code",
   "execution_count": 40,
   "metadata": {},
   "outputs": [
    {
     "data": {
      "text/plain": [
       "0.0"
      ]
     },
     "execution_count": 40,
     "metadata": {},
     "output_type": "execute_result"
    }
   ],
   "source": [
    "min(aggregated_jc)"
   ]
  },
  {
   "cell_type": "code",
   "execution_count": 41,
   "metadata": {},
   "outputs": [],
   "source": [
    "num_zeros = [len(matrix) - np.count_nonzero(row) for row in matrix]"
   ]
  },
  {
   "cell_type": "code",
   "execution_count": 42,
   "metadata": {},
   "outputs": [
    {
     "data": {
      "text/plain": [
       "1599"
      ]
     },
     "execution_count": 42,
     "metadata": {},
     "output_type": "execute_result"
    }
   ],
   "source": [
    "max(num_zeros)"
   ]
  },
  {
   "cell_type": "code",
   "execution_count": 43,
   "metadata": {},
   "outputs": [
    {
     "data": {
      "text/plain": [
       "1133"
      ]
     },
     "execution_count": 43,
     "metadata": {},
     "output_type": "execute_result"
    }
   ],
   "source": [
    "min(num_zeros)"
   ]
  },
  {
   "cell_type": "code",
   "execution_count": 44,
   "metadata": {},
   "outputs": [
    {
     "name": "stderr",
     "output_type": "stream",
     "text": [
      "/Users/ra-mit/development/virtualenvs/fuzzylazo/lib/python3.6/site-packages/ipykernel_launcher.py:1: RuntimeWarning: invalid value encountered in double_scalars\n",
      "  \"\"\"Entry point for launching an IPython kernel.\n"
     ]
    }
   ],
   "source": [
    "avg_jc_per_column_norm_nonzeros = [aggr/(len(matrix) - zeros) for aggr, zeros in zip(aggregated_jc, num_zeros)]"
   ]
  },
  {
   "cell_type": "code",
   "execution_count": 45,
   "metadata": {},
   "outputs": [
    {
     "data": {
      "text/plain": [
       "1.0"
      ]
     },
     "execution_count": 45,
     "metadata": {},
     "output_type": "execute_result"
    }
   ],
   "source": [
    "max(avg_jc_per_column_norm_nonzeros)"
   ]
  },
  {
   "cell_type": "code",
   "execution_count": 46,
   "metadata": {},
   "outputs": [
    {
     "data": {
      "text/plain": [
       "0.06719495726666666"
      ]
     },
     "execution_count": 46,
     "metadata": {},
     "output_type": "execute_result"
    }
   ],
   "source": [
    "min(avg_jc_per_column_norm_nonzeros)"
   ]
  },
  {
   "cell_type": "code",
   "execution_count": 47,
   "metadata": {},
   "outputs": [],
   "source": [
    "avg_jc_per_column = [aggr/len(matrix) for aggr in aggregated_jc if aggr > 0]  # not counting 0 aggr values!!"
   ]
  },
  {
   "cell_type": "code",
   "execution_count": 48,
   "metadata": {},
   "outputs": [
    {
     "data": {
      "text/plain": [
       "0.2802967125265791"
      ]
     },
     "execution_count": 48,
     "metadata": {},
     "output_type": "execute_result"
    }
   ],
   "source": [
    "max(avg_jc_per_column)"
   ]
  },
  {
   "cell_type": "code",
   "execution_count": 49,
   "metadata": {
    "scrolled": true
   },
   "outputs": [
    {
     "data": {
      "text/plain": [
       "0.0006173730456535334"
      ]
     },
     "execution_count": 49,
     "metadata": {},
     "output_type": "execute_result"
    }
   ],
   "source": [
    "min(avg_jc_per_column)"
   ]
  },
  {
   "cell_type": "markdown",
   "metadata": {},
   "source": [
    "### Proposal of computing beta and theta matrix"
   ]
  },
  {
   "cell_type": "code",
   "execution_count": 50,
   "metadata": {},
   "outputs": [],
   "source": [
    "theta_matrix = []\n",
    "for row in matrix:\n",
    "    aggr_jc = sum(row)\n",
    "    total_d = len(row)\n",
    "    if aggr_jc > 0:\n",
    "        beta = math.log((total_d/aggr_jc))\n",
    "        theta_row = []\n",
    "        for jc in row:\n",
    "            theta = (jc * beta) / math.log(total_d)\n",
    "            theta_row.append(theta)\n",
    "    else:\n",
    "        theta_row = [0 for jc in row]\n",
    "    theta_matrix.append(theta_row)"
   ]
  },
  {
   "cell_type": "code",
   "execution_count": 51,
   "metadata": {},
   "outputs": [],
   "source": [
    "theta_matrix = np.asarray(theta_matrix)"
   ]
  },
  {
   "cell_type": "code",
   "execution_count": 52,
   "metadata": {},
   "outputs": [],
   "source": [
    "matrix_df = transform_matrix_dataframe(matrix)\n",
    "theta_matrix_df = transform_matrix_dataframe(theta_matrix)"
   ]
  },
  {
   "cell_type": "code",
   "execution_count": 53,
   "metadata": {},
   "outputs": [
    {
     "data": {
      "text/plain": [
       "[<matplotlib.lines.Line2D at 0x111e062b0>]"
      ]
     },
     "execution_count": 53,
     "metadata": {},
     "output_type": "execute_result"
    },
    {
     "data": {
      "image/png": "[encoded data removed]",
      "text/plain": [
       "<Figure size 432x288 with 1 Axes>"
      ]
     },
     "metadata": {
      "needs_background": "light"
     },
     "output_type": "display_data"
    }
   ],
   "source": [
    "fig, ax = plt.subplots()\n",
    "plt.ylim((0, 1))\n",
    "plt.xlim((0, 1))\n",
    "ax.set_xlabel(\"JC\")\n",
    "ax.set_ylabel(\"Theta\")\n",
    "ax.plot(matrix[1], theta_matrix[1], 'o')"
   ]
  },
  {
   "cell_type": "code",
   "execution_count": 54,
   "metadata": {},
   "outputs": [
    {
     "data": {
      "text/plain": [
       "[<matplotlib.lines.Line2D at 0x11389fd68>]"
      ]
     },
     "execution_count": 54,
     "metadata": {},
     "output_type": "execute_result"
    },
    {
     "data": {
      "image/png": "[encoded data removed]",
      "text/plain": [
       "<Figure size 432x288 with 1 Axes>"
      ]
     },
     "metadata": {
      "needs_background": "light"
     },
     "output_type": "display_data"
    }
   ],
   "source": [
    "fig, ax = plt.subplots()\n",
    "#plt.ylim((0, 1))\n",
    "#plt.xlim((0, 1))\n",
    "ax.set_xlabel(\"Aggr. JC\")\n",
    "ax.set_ylabel(\"Aggr. Theta\")\n",
    "ax.plot([sum(x) for x in matrix], [sum(x) for x in theta_matrix], 'o')"
   ]
  },
  {
   "cell_type": "code",
   "execution_count": 55,
   "metadata": {},
   "outputs": [
    {
     "data": {
      "text/plain": [
       "[<matplotlib.lines.Line2D at 0x11160df60>]"
      ]
     },
     "execution_count": 55,
     "metadata": {},
     "output_type": "execute_result"
    },
    {
     "data": {
      "image/png": "[encoded data removed]",
      "text/plain": [
       "<Figure size 432x288 with 1 Axes>"
      ]
     },
     "metadata": {
      "needs_background": "light"
     },
     "output_type": "display_data"
    }
   ],
   "source": [
    "fig, ax = plt.subplots()\n",
    "#plt.ylim((0, 1))\n",
    "#plt.xlim((0, 1))\n",
    "ax.set_xlabel(\"Aggr. JC\")\n",
    "ax.set_ylabel(\"Aggr. Theta\")\n",
    "ax.plot([sum(x)/len(x) for x in matrix], [sum(x)/len(x) for x in theta_matrix], 'o')"
   ]
  },
  {
   "cell_type": "markdown",
   "metadata": {},
   "source": [
    "### check in which cases theta is larger than JC, or does it always damp it?"
   ]
  },
  {
   "cell_type": "code",
   "execution_count": 56,
   "metadata": {},
   "outputs": [
    {
     "name": "stdout",
     "output_type": "stream",
     "text": [
      "Theta: 0.991915148124266\n",
      "JC: 0.99065423\n",
      "Theta: 0.9926692844725535\n",
      "JC: 0.9915254\n",
      "Theta: 0.9889061819891763\n",
      "JC: 0.9871795\n",
      "Theta: 0.9889604055336504\n",
      "JC: 0.9872421\n",
      "Theta: 0.9895498742947397\n",
      "JC: 0.98792267\n",
      "Theta: 0.9927915923396584\n",
      "JC: 0.9916667\n",
      "6\n"
     ]
    }
   ],
   "source": [
    "import itertools\n",
    "total_larger = 0\n",
    "for i, j in itertools.product([x for x in range(matrix.shape[0])], [x for x in range(matrix.shape[0])]):\n",
    "    if theta_matrix[i][j] > matrix[i][j]:\n",
    "        total_larger += 1\n",
    "        print(\"Theta: \" + str(theta_matrix[i][j]))\n",
    "        print(\"JC: \" + str(matrix[i][j]))\n",
    "print(total_larger)"
   ]
  },
  {
   "cell_type": "markdown",
   "metadata": {},
   "source": [
    "### plotting the diff between both"
   ]
  },
  {
   "cell_type": "code",
   "execution_count": 57,
   "metadata": {},
   "outputs": [
    {
     "name": "stdout",
     "output_type": "stream",
     "text": [
      "M: 0.8275879767398286\n",
      "m: -0.0017266819891763596\n",
      "avg: 0.3231151660891969\n",
      "med: 0.26179260480984234\n",
      "p95: 0.7507212539236987\n",
      "p90: 0.6753463256387479\n",
      "p5: 0.0757316684008584\n",
      "p75: 0.4858193135266591\n",
      "p85: 0.6122401335965182\n"
     ]
    }
   ],
   "source": [
    "diffs = []\n",
    "for i, j in itertools.product([x for x in range(matrix.shape[0])], [x for x in range(matrix.shape[0])]):\n",
    "    # ONLY COUNT NON-ZERO\n",
    "    if matrix[i][j] > 0:\n",
    "        diff = matrix[i][j] - theta_matrix[i][j]\n",
    "        diffs.append(diff)\n",
    "diffs = np.asarray(diffs)\n",
    "max_diff = np.max(diffs)\n",
    "min_diff = np.min(diffs)\n",
    "med_diff = np.percentile(diffs, 50)\n",
    "p95_diff = np.percentile(diffs, 95)\n",
    "p90_diff = np.percentile(diffs, 90)\n",
    "p5_diff = np.percentile(diffs, 5)\n",
    "p75_diff = np.percentile(diffs, 75)\n",
    "p85_diff = np.percentile(diffs, 85)\n",
    "avg_diff = np.average(diffs)\n",
    "print(\"M: \" + str(max_diff))\n",
    "print(\"m: \" + str(min_diff))\n",
    "print(\"avg: \" + str(avg_diff))\n",
    "print(\"med: \" + str(med_diff))\n",
    "print(\"p95: \" + str(p95_diff))\n",
    "print(\"p90: \" + str(p90_diff))\n",
    "print(\"p5: \" + str(p5_diff))\n",
    "print(\"p75: \" + str(p75_diff))\n",
    "print(\"p85: \" + str(p85_diff))"
   ]
  },
  {
   "cell_type": "markdown",
   "metadata": {},
   "source": [
    "#### For a given threshold, which columns make it using JC that do not make it using Theta"
   ]
  },
  {
   "cell_type": "code",
   "execution_count": 91,
   "metadata": {},
   "outputs": [],
   "source": [
    "def candidates(matrix, threshold):\n",
    "    pairs = []\n",
    "    for i, row in enumerate(matrix):\n",
    "        for j, el in enumerate(row):\n",
    "            if el > threshold and i != j:\n",
    "                pairs.append((i, j))\n",
    "    return pairs"
   ]
  },
  {
   "cell_type": "code",
   "execution_count": 100,
   "metadata": {},
   "outputs": [
    {
     "name": "stdout",
     "output_type": "stream",
     "text": [
      "Threshold: 0.5\n",
      "JC: 111394\n",
      "TH: 2072\n",
      "Threshold: 0.6\n",
      "JC: 88787\n",
      "TH: 1021\n",
      "Threshold: 0.7\n",
      "JC: 67744\n",
      "TH: 453\n",
      "Threshold: 0.8\n",
      "JC: 50823\n",
      "TH: 170\n",
      "Threshold: 0.9\n",
      "JC: 33489\n",
      "TH: 14\n"
     ]
    }
   ],
   "source": [
    "for th in [0.5, 0.6, 0.7, 0.8, 0.9]:\n",
    "    jc_pairs = candidates(matrix, th)\n",
    "    th_pairs = candidates(theta_matrix, th)\n",
    "    print(\"Threshold: \" + str(th))\n",
    "    print(\"JC: \" + str(len(jc_pairs)))\n",
    "    print(\"TH: \" + str(len(th_pairs)))"
   ]
  },
  {
   "cell_type": "code",
   "execution_count": 96,
   "metadata": {},
   "outputs": [
    {
     "name": "stdout",
     "output_type": "stream",
     "text": [
      "JC pairs total: 67744\n",
      "TH pairs total: 453\n"
     ]
    }
   ],
   "source": [
    "jc_pairs = candidates(matrix, 0.7)\n",
    "th_pairs = candidates(theta_matrix, 0.7)\n",
    "print(\"JC pairs total: \" + str(len(jc_pairs)))\n",
    "print(\"TH pairs total: \" + str(len(th_pairs)))"
   ]
  },
  {
   "cell_type": "code",
   "execution_count": 77,
   "metadata": {},
   "outputs": [
    {
     "data": {
      "text/plain": [
       "'All_olap_descriptor_types.csv->Descriptor Type ~ Sdo_crs_engineering.csv->Coord Ref Sys Name'"
      ]
     },
     "execution_count": 77,
     "metadata": {},
     "output_type": "execute_result"
    }
   ],
   "source": [
    "# bad\n",
    "name_pair(jc_pairs[0], idmap)"
   ]
  },
  {
   "cell_type": "code",
   "execution_count": 79,
   "metadata": {},
   "outputs": [
    {
     "data": {
      "text/plain": [
       "'All_olap_descriptor_types.csv->Descriptor Type ~ Sdo_coord_op_methods.csv->Coord Op Method Name'"
      ]
     },
     "execution_count": 79,
     "metadata": {},
     "output_type": "execute_result"
    }
   ],
   "source": [
    "# bad\n",
    "name_pair(jc_pairs[1], idmap)"
   ]
  },
  {
   "cell_type": "code",
   "execution_count": 82,
   "metadata": {},
   "outputs": [
    {
     "data": {
      "text/plain": [
       "'All_olap_descriptor_types.csv->Descriptor Type ~ short_library_reserve_catalog.csv->Catalog Publisher'"
      ]
     },
     "execution_count": 82,
     "metadata": {},
     "output_type": "execute_result"
    }
   ],
   "source": [
    "name_pair(jc_pairs[2], idmap)"
   ]
  },
  {
   "cell_type": "code",
   "execution_count": 78,
   "metadata": {},
   "outputs": [
    {
     "data": {
      "text/plain": [
       "'Fclt_building_list.csv->Building Type ~ Fac_building.csv->Building Type'"
      ]
     },
     "execution_count": 78,
     "metadata": {},
     "output_type": "execute_result"
    }
   ],
   "source": [
    "name_pair(th_pairs[0], idmap)"
   ]
  },
  {
   "cell_type": "code",
   "execution_count": 80,
   "metadata": {},
   "outputs": [
    {
     "data": {
      "text/plain": [
       "'Fclt_building_list.csv->Building Type ~ Fclt_building_hist_1.csv->Building Type'"
      ]
     },
     "execution_count": 80,
     "metadata": {},
     "output_type": "execute_result"
    }
   ],
   "source": [
    "name_pair(th_pairs[1], idmap)"
   ]
  },
  {
   "cell_type": "code",
   "execution_count": 83,
   "metadata": {},
   "outputs": [
    {
     "data": {
      "text/plain": [
       "'Fclt_building_list.csv->Building Type ~ Fclt_building.csv->Building Type'"
      ]
     },
     "execution_count": 83,
     "metadata": {},
     "output_type": "execute_result"
    }
   ],
   "source": [
    "name_pair(th_pairs[2], idmap)"
   ]
  },
  {
   "cell_type": "code",
   "execution_count": 84,
   "metadata": {
    "scrolled": true
   },
   "outputs": [
    {
     "data": {
      "text/plain": [
       "'Fclt_building_hist_1.csv->Access Level Code ~ Fclt_building.csv->Access Level Code'"
      ]
     },
     "execution_count": 84,
     "metadata": {},
     "output_type": "execute_result"
    }
   ],
   "source": [
    "name_pair(th_pairs[3], idmap)"
   ]
  },
  {
   "cell_type": "code",
   "execution_count": 89,
   "metadata": {},
   "outputs": [
    {
     "name": "stdout",
     "output_type": "stream",
     "text": [
      "195\n"
     ]
    }
   ],
   "source": [
    "c = 0\n",
    "for i, j in th_pairs:\n",
    "    iname = idmap[i].split(\"->\")[1]\n",
    "    jname = idmap[j].split(\"->\")[1]\n",
    "    if iname != jname:\n",
    "        c += 1\n",
    "        #print(name_pair((i,j), idmap))\n",
    "print(c)"
   ]
  },
  {
   "cell_type": "markdown",
   "metadata": {},
   "source": [
    "## Comparing JC across ngram sizes"
   ]
  },
  {
   "cell_type": "code",
   "execution_count": 19,
   "metadata": {},
   "outputs": [],
   "source": [
    "im2 = \"temp/mit_matrix_n2_k64.dat\"\n",
    "im3 = \"temp/mit_matrix_n3_k64.dat\""
   ]
  },
  {
   "cell_type": "code",
   "execution_count": 53,
   "metadata": {},
   "outputs": [],
   "source": [
    "m2 = deserialize_matrix(im2)\n",
    "m3 = deserialize_matrix(im3)"
   ]
  },
  {
   "cell_type": "markdown",
   "metadata": {},
   "source": [
    "#### Hypothesis 1: Non-zero JC values in m3 must always be smaller than non-zero JC values in m2"
   ]
  },
  {
   "cell_type": "code",
   "execution_count": 54,
   "metadata": {},
   "outputs": [
    {
     "data": {
      "text/plain": [
       "(1599, 1599)"
      ]
     },
     "execution_count": 54,
     "metadata": {},
     "output_type": "execute_result"
    }
   ],
   "source": [
    "m2.shape"
   ]
  },
  {
   "cell_type": "code",
   "execution_count": 55,
   "metadata": {},
   "outputs": [
    {
     "data": {
      "text/plain": [
       "(1599, 1599)"
      ]
     },
     "execution_count": 55,
     "metadata": {},
     "output_type": "execute_result"
    }
   ],
   "source": [
    "m3.shape"
   ]
  },
  {
   "cell_type": "code",
   "execution_count": 90,
   "metadata": {},
   "outputs": [],
   "source": [
    "# we need to keep in mind the 0.05 normal error from the lazo method, so we can relax that\n",
    "fail = 0\n",
    "for r2, r3 in zip(m2, m3):\n",
    "    for el2, el3 in zip(r2, r3):\n",
    "        if el2 > 0 and el3 > 0:\n",
    "            if (el3 - 0.05) > el2:  # D value of lazo method\n",
    "#                 print(str(el3) + \"-\" + str(el2))\n",
    "                fail += 1"
   ]
  },
  {
   "cell_type": "code",
   "execution_count": 93,
   "metadata": {},
   "outputs": [],
   "source": [
    "total_els = 1599*1599\n",
    "perc_fail = (float(fail) / float(total_els))"
   ]
  },
  {
   "cell_type": "code",
   "execution_count": 94,
   "metadata": {
    "scrolled": true
   },
   "outputs": [
    {
     "data": {
      "text/plain": [
       "0.0015887040094242767"
      ]
     },
     "execution_count": 94,
     "metadata": {},
     "output_type": "execute_result"
    }
   ],
   "source": [
    "perc_fail"
   ]
  },
  {
   "cell_type": "markdown",
   "metadata": {},
   "source": [
    "#### 1.5 per thousand fail --> need to understand why"
   ]
  },
  {
   "cell_type": "code",
   "execution_count": 95,
   "metadata": {},
   "outputs": [],
   "source": [
    "im3 = \"temp/mit_matrix_n3_k64.dat\"\n",
    "im4 = \"temp/mit_matrix_n4_k64.dat\""
   ]
  },
  {
   "cell_type": "code",
   "execution_count": 96,
   "metadata": {},
   "outputs": [],
   "source": [
    "m3 = deserialize_matrix(im3)\n",
    "m4 = deserialize_matrix(im4)"
   ]
  },
  {
   "cell_type": "code",
   "execution_count": 97,
   "metadata": {},
   "outputs": [
    {
     "data": {
      "text/plain": [
       "(1599, 1599)"
      ]
     },
     "execution_count": 97,
     "metadata": {},
     "output_type": "execute_result"
    }
   ],
   "source": [
    "m3.shape"
   ]
  },
  {
   "cell_type": "code",
   "execution_count": 98,
   "metadata": {},
   "outputs": [
    {
     "data": {
      "text/plain": [
       "(1599, 1599)"
      ]
     },
     "execution_count": 98,
     "metadata": {},
     "output_type": "execute_result"
    }
   ],
   "source": [
    "m4.shape"
   ]
  },
  {
   "cell_type": "code",
   "execution_count": 99,
   "metadata": {},
   "outputs": [],
   "source": [
    "fail = 0\n",
    "for r3, r4 in zip(m3, m4):\n",
    "    for el3, el4 in zip(r3, r4):\n",
    "        if el3 > 0 and el4 > 0:\n",
    "            if (el4 - 0.05) > el3:  # D value of lazo method\n",
    "#                 print(str(el4) + \"-\" + str(el3))\n",
    "                fail += 1"
   ]
  },
  {
   "cell_type": "code",
   "execution_count": 100,
   "metadata": {},
   "outputs": [],
   "source": [
    "total_els = 1599*1599\n",
    "perc_fail = (float(fail) / float(total_els))"
   ]
  },
  {
   "cell_type": "code",
   "execution_count": 101,
   "metadata": {},
   "outputs": [
    {
     "data": {
      "text/plain": [
       "0.0006867957263783924"
      ]
     },
     "execution_count": 101,
     "metadata": {},
     "output_type": "execute_result"
    }
   ],
   "source": [
    "perc_fail"
   ]
  },
  {
   "cell_type": "markdown",
   "metadata": {},
   "source": [
    "#### 0.6 per thousand fail, trend goes in the direction of supporting the hypothesis"
   ]
  },
  {
   "cell_type": "code",
   "execution_count": 103,
   "metadata": {},
   "outputs": [],
   "source": [
    "im4 = \"temp/mit_matrix_n4_k64.dat\"\n",
    "im5 = \"temp/mit_matrix_n5_k64.dat\""
   ]
  },
  {
   "cell_type": "code",
   "execution_count": 104,
   "metadata": {},
   "outputs": [],
   "source": [
    "m4 = deserialize_matrix(im4)\n",
    "m5 = deserialize_matrix(im5)"
   ]
  },
  {
   "cell_type": "code",
   "execution_count": 105,
   "metadata": {},
   "outputs": [
    {
     "data": {
      "text/plain": [
       "(1599, 1599)"
      ]
     },
     "execution_count": 105,
     "metadata": {},
     "output_type": "execute_result"
    }
   ],
   "source": [
    "m4.shape"
   ]
  },
  {
   "cell_type": "code",
   "execution_count": 106,
   "metadata": {},
   "outputs": [
    {
     "data": {
      "text/plain": [
       "(1599, 1599)"
      ]
     },
     "execution_count": 106,
     "metadata": {},
     "output_type": "execute_result"
    }
   ],
   "source": [
    "m5.shape"
   ]
  },
  {
   "cell_type": "code",
   "execution_count": 107,
   "metadata": {},
   "outputs": [],
   "source": [
    "fail = 0\n",
    "for r4, r5 in zip(m4, m5):\n",
    "    for el4, el5 in zip(r4, r5):\n",
    "        if el4 > 0 and el5 > 0:\n",
    "            if (el5 - 0.05) > el4:  # D value of lazo method\n",
    "#                 print(str(el5) + \"-\" + str(el4))\n",
    "                fail += 1"
   ]
  },
  {
   "cell_type": "code",
   "execution_count": 108,
   "metadata": {},
   "outputs": [],
   "source": [
    "total_els = 1599*1599\n",
    "perc_fail = (float(fail) / float(total_els))"
   ]
  },
  {
   "cell_type": "code",
   "execution_count": 109,
   "metadata": {},
   "outputs": [
    {
     "data": {
      "text/plain": [
       "0.0002718240488798307"
      ]
     },
     "execution_count": 109,
     "metadata": {},
     "output_type": "execute_result"
    }
   ],
   "source": [
    "perc_fail"
   ]
  },
  {
   "cell_type": "markdown",
   "metadata": {},
   "source": [
    "#### 0.2 per thousand fail, trend goes in the direction of supporting the hypothesis"
   ]
  },
  {
   "cell_type": "code",
   "execution_count": 110,
   "metadata": {},
   "outputs": [],
   "source": [
    "im5 = \"temp/mit_matrix_n5_k64.dat\"\n",
    "im6 = \"temp/mit_matrix_n6_k64.dat\""
   ]
  },
  {
   "cell_type": "code",
   "execution_count": 111,
   "metadata": {},
   "outputs": [],
   "source": [
    "m5 = deserialize_matrix(im5)\n",
    "m6 = deserialize_matrix(im6)"
   ]
  },
  {
   "cell_type": "code",
   "execution_count": 112,
   "metadata": {},
   "outputs": [
    {
     "data": {
      "text/plain": [
       "(1599, 1599)"
      ]
     },
     "execution_count": 112,
     "metadata": {},
     "output_type": "execute_result"
    }
   ],
   "source": [
    "m5.shape"
   ]
  },
  {
   "cell_type": "code",
   "execution_count": 113,
   "metadata": {},
   "outputs": [
    {
     "data": {
      "text/plain": [
       "(1599, 1599)"
      ]
     },
     "execution_count": 113,
     "metadata": {},
     "output_type": "execute_result"
    }
   ],
   "source": [
    "m6.shape"
   ]
  },
  {
   "cell_type": "code",
   "execution_count": 114,
   "metadata": {},
   "outputs": [],
   "source": [
    "fail = 0\n",
    "for r5, r6 in zip(m5, m6):\n",
    "    for el5, el6 in zip(r5, r6):\n",
    "        if el5 > 0 and el6 > 0:\n",
    "            if (el6 - 0.05) > el5:  # D value of lazo method\n",
    "#                 print(str(el6) + \"-\" + str(el5))\n",
    "                fail += 1"
   ]
  },
  {
   "cell_type": "code",
   "execution_count": 115,
   "metadata": {},
   "outputs": [],
   "source": [
    "total_els = 1599*1599\n",
    "perc_fail = (float(fail) / float(total_els))"
   ]
  },
  {
   "cell_type": "code",
   "execution_count": 116,
   "metadata": {},
   "outputs": [
    {
     "data": {
      "text/plain": [
       "0.0006957913423844875"
      ]
     },
     "execution_count": 116,
     "metadata": {},
     "output_type": "execute_result"
    }
   ],
   "source": [
    "perc_fail"
   ]
  },
  {
   "cell_type": "markdown",
   "metadata": {},
   "source": [
    "#### 0.6 per thousand fail, trend goes in the direction of supporting the hypothesis"
   ]
  },
  {
   "cell_type": "markdown",
   "metadata": {},
   "source": [
    "## TESTING"
   ]
  },
  {
   "cell_type": "code",
   "execution_count": 152,
   "metadata": {},
   "outputs": [],
   "source": [
    "non_zero_row = [el for el in m2[0] if el > 0]"
   ]
  },
  {
   "cell_type": "code",
   "execution_count": 153,
   "metadata": {
    "scrolled": true
   },
   "outputs": [
    {
     "data": {
      "text/plain": [
       "18"
      ]
     },
     "execution_count": 153,
     "metadata": {},
     "output_type": "execute_result"
    }
   ],
   "source": [
    "len(non_zero_row)"
   ]
  },
  {
   "cell_type": "code",
   "execution_count": 154,
   "metadata": {},
   "outputs": [
    {
     "data": {
      "text/plain": [
       "[0.9895834,\n",
       " 0.16666667,\n",
       " 0.48958334,\n",
       " 0.5260416,\n",
       " 0.21875,\n",
       " 0.4635417,\n",
       " 0.47916666,\n",
       " 0.203125,\n",
       " 0.46875,\n",
       " 0.40625,\n",
       " 0.3541667,\n",
       " 0.5260416,\n",
       " 0.16666667,\n",
       " 0.17708333,\n",
       " 0.16666667,\n",
       " 0.5364584,\n",
       " 0.40104166,\n",
       " 0.15104166]"
      ]
     },
     "execution_count": 154,
     "metadata": {},
     "output_type": "execute_result"
    }
   ],
   "source": [
    "non_zero_row"
   ]
  },
  {
   "cell_type": "code",
   "execution_count": 159,
   "metadata": {},
   "outputs": [],
   "source": [
    "aggr = np.sum(non_zero_row)"
   ]
  },
  {
   "cell_type": "code",
   "execution_count": 160,
   "metadata": {},
   "outputs": [
    {
     "data": {
      "text/plain": [
       "6.89062506"
      ]
     },
     "execution_count": 160,
     "metadata": {},
     "output_type": "execute_result"
    }
   ],
   "source": [
    "aggr"
   ]
  },
  {
   "cell_type": "code",
   "execution_count": 161,
   "metadata": {},
   "outputs": [],
   "source": [
    "norm = [el/aggr for el in non_zero_row]"
   ]
  },
  {
   "cell_type": "code",
   "execution_count": 163,
   "metadata": {},
   "outputs": [],
   "source": [
    "maxnorm = max(norm)\n",
    "minnorm = min(norm)\n",
    "beta_scores = [(el - minnorm) / (maxnorm - minnorm) for el in norm]"
   ]
  },
  {
   "cell_type": "code",
   "execution_count": 164,
   "metadata": {},
   "outputs": [
    {
     "data": {
      "text/plain": [
       "[1.0,\n",
       " 0.01863355066856898,\n",
       " 0.4037266886678772,\n",
       " 0.44720485828171175,\n",
       " 0.08074534250376136,\n",
       " 0.372670822563943,\n",
       " 0.391304313605188,\n",
       " 0.06211180376065718,\n",
       " 0.37888196239342836,\n",
       " 0.30434780742101164,\n",
       " 0.24223605136221368,\n",
       " 0.44720485828171175,\n",
       " 0.01863355066856898,\n",
       " 0.03105590188032862,\n",
       " 0.01863355066856898,\n",
       " 0.4596273764499785,\n",
       " 0.29813661988966705,\n",
       " 0.0]"
      ]
     },
     "execution_count": 164,
     "metadata": {},
     "output_type": "execute_result"
    }
   ],
   "source": [
    "beta_scores"
   ]
  },
  {
   "cell_type": "code",
   "execution_count": 165,
   "metadata": {},
   "outputs": [],
   "source": [
    "final_scores = [jc * beta for jc, beta in zip(non_zero_row, beta_scores)]"
   ]
  },
  {
   "cell_type": "code",
   "execution_count": 172,
   "metadata": {},
   "outputs": [
    {
     "name": "stdout",
     "output_type": "stream",
     "text": [
      "(0.9895834, 0.9895834)\n",
      "(0.0031055918402066655, 0.16666667)\n",
      "(0.19765786068515945, 0.48958334)\n",
      "(0.2352483591782849, 0.5260416)\n",
      "(0.017663043672697797, 0.21875)\n",
      "(0.1727484666316885, 0.4635417)\n",
      "(0.1874999809937905, 0.47916666)\n",
      "(0.012616460138883491, 0.203125)\n",
      "(0.17760091987191953, 0.46875)\n",
      "(0.12364129676478598, 0.40625)\n",
      "(0.08579194293198572, 0.3541667)\n",
      "(0.2352483591782849, 0.5260416)\n",
      "(0.0031055918402066655, 0.16666667)\n",
      "(0.005499482521121854, 0.17708333)\n",
      "(0.0031055918402066655, 0.16666667)\n",
      "(0.24657096696655315, 0.5364584)\n",
      "(0.1195652049473411, 0.40104166)\n",
      "(0.0, 0.15104166)\n"
     ]
    }
   ],
   "source": [
    "for el in zip(final_scores, non_zero_row):\n",
    "    print(el)"
   ]
  },
  {
   "cell_type": "code",
   "execution_count": null,
   "metadata": {},
   "outputs": [],
   "source": []
  }
 ],
 "metadata": {
  "kernelspec": {
   "display_name": "Python 3",
   "language": "python",
   "name": "python3"
  },
  "language_info": {
   "codemirror_mode": {
    "name": "ipython",
    "version": 3
   },
   "file_extension": ".py",
   "mimetype": "text/x-python",
   "name": "python",
   "nbconvert_exporter": "python",
   "pygments_lexer": "ipython3",
   "version": "3.6.4"
  }
 },
 "nbformat": 4,
 "nbformat_minor": 2
}
